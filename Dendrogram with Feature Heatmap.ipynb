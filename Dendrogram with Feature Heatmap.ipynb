{
 "cells": [
  {
   "cell_type": "code",
   "execution_count": null,
   "metadata": {
    "collapsed": true
   },
   "outputs": [],
   "source": [
    "%matplotlib inline"
   ]
  },
  {
   "cell_type": "code",
   "execution_count": null,
   "metadata": {
    "collapsed": true
   },
   "outputs": [],
   "source": [
    "import pandas as pd\n",
    "import numpy as np\n",
    "import matplotlib.pyplot as plt\n",
    "import pylab\n",
    "import scipy.cluster.hierarchy as sch\n",
    "\n",
    "import warnings\n",
    "warnings.filterwarnings(\"ignore\")"
   ]
  },
  {
   "cell_type": "code",
   "execution_count": null,
   "metadata": {
    "collapsed": false
   },
   "outputs": [],
   "source": [
    "def plotDendrogram(df, labels):\n",
    "    ax = [None for i in range(df.shape[1])]\n",
    "    im = [None for i in range(df.shape[1])]\n",
    "    axColorBars = [None for i in range(df.shape[1])]\n",
    "\n",
    "    fig = plt.figure()\n",
    "    dendrogramAX = fig.add_axes([0,0.4,2,2])\n",
    "    Y = sch.linkage(df)\n",
    "    Z = sch.dendrogram(Y)\n",
    "    dendrogramAX.set_xticks([])\n",
    "    dendrogramAX.set_yticks([])\n",
    "\n",
    "    for i in range(df.shape[1]):\n",
    "        colName = df.columns[i]\n",
    "        ax[i] = fig.add_axes([0,0.1-(0.3*i),2,0.2])\n",
    "        im[i] = ax[i].matshow([df.loc[Z[\"leaves\"]][colName]], aspect='auto', cmap=pylab.cm.Reds)\n",
    "        ax[i].set_xticks(range(len(labels)))\n",
    "\n",
    "        if i==df.shape[1]-1:\n",
    "            ax[i].xaxis.tick_bottom()\n",
    "            ax[i].set_xticklabels([labels[k] for k in Z[\"leaves\"]], rotation=90)\n",
    "        else:\n",
    "            ax[i].set_xticklabels([''])\n",
    "\n",
    "        ax[i].set_yticklabels([''])\n",
    "        ax[i].set_ylabel(colName)\n",
    "\n",
    "        axColorBars[i] = fig.add_axes([2.1,0.1-(0.3*i),0.1,0.2])\n",
    "        plt.colorbar(im[i], cax=axColorBars[i])\n",
    "\n",
    "    plt.show()"
   ]
  },
  {
   "cell_type": "code",
   "execution_count": null,
   "metadata": {
    "collapsed": false
   },
   "outputs": [],
   "source": [
    "col1 = [int(np.random.sample()*100) for i in range(100)]\n",
    "col2 = [int(np.random.sample()*100) for i in range(100)]\n",
    "col3 = [int(np.random.sample()*100) for i in range(100)]\n",
    "col4 = [int(np.random.sample()*100) for i in range(100)]\n",
    "\n",
    "df = pd.DataFrame.from_dict({\"col1\": col1, \"col2\": col2, \"col3\": col3, \"col4\": col4})\n",
    "labels = [\"row\"+str(i) for i in range(100)] \n",
    "\n",
    "plotDendrogram(df, labels)"
   ]
  },
  {
   "cell_type": "code",
   "execution_count": null,
   "metadata": {
    "collapsed": true
   },
   "outputs": [],
   "source": []
  },
  {
   "cell_type": "code",
   "execution_count": null,
   "metadata": {
    "collapsed": true
   },
   "outputs": [],
   "source": []
  }
 ],
 "metadata": {
  "kernelspec": {
   "display_name": "Python 2",
   "language": "python",
   "name": "python2"
  },
  "language_info": {
   "codemirror_mode": {
    "name": "ipython",
    "version": 2
   },
   "file_extension": ".py",
   "mimetype": "text/x-python",
   "name": "python",
   "nbconvert_exporter": "python",
   "pygments_lexer": "ipython2",
   "version": "2.7.6"
  }
 },
 "nbformat": 4,
 "nbformat_minor": 0
}
